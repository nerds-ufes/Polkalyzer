{
 "cells": [
  {
   "cell_type": "code",
   "execution_count": 1,
   "metadata": {},
   "outputs": [
    {
     "name": "stdout",
     "output_type": "stream",
     "text": [
      "Digite o nó que enviará a sonda em G: \n",
      "Matriz de Sondas =  [[1, 5, 3], [2, 6, 4], [7]]\n",
      "Overhead DataPlane MPolka =  170\n",
      "Overhead DataPlane MPINT =  129\n",
      "Overhead DataPlane INT Clássico =  340\n",
      "Overhead ControlPlane MPolka =  51\n",
      "Overhead ControlPlane MPINT =  44\n",
      "Overhead ControlPlane INT Clássico =  170\n",
      "  Topology         Where  MPolka  MPINT  INT Clássico\n",
      "0     Isis     DataPlane     170    129           340\n",
      "1     Isis  ControlPlane      51     44           170\n"
     ]
    }
   ],
   "source": [
    "import networkx as nx\n",
    "import matplotlib.pyplot as plt\n",
    "import pandas as pd\n",
    "import numpy as np\n",
    "import seaborn as sns\n",
    "\n",
    "GIsis = nx.from_edgelist([[1,5],[5,3],[1,2],[2,6],[6,4],[6,7]])\n",
    "sonda = []\n",
    "sondaTemp = []\n",
    "\n",
    "def dfs(G,v,visited): #Retorna a matriz de sondas do MPolka\n",
    "  #print(v)\n",
    "  #visited = [False] * (GIsis.number_of_nodes() + 1)\n",
    "  sondaTemp.append(v)\n",
    "  visited[v] = True\n",
    "  for w in G.neighbors(v):\n",
    "    if len(list(G.neighbors(v))) == 1: #DEADEND\n",
    "        #print(sondaTemp)\n",
    "        sonda.append(sondaTemp.copy())\n",
    "        sondaTemp.clear()\n",
    "    if not visited[w]:\n",
    "        dfs(G,w,visited)\n",
    "  return sonda\n",
    "\n",
    "print('Digite o nó que enviará a sonda em G: ')\n",
    "node = int(input())\n",
    "sonda = dfs(GIsis,node,visited=([False] * (GIsis.number_of_nodes() + 1)))\n",
    "\n",
    "print('Matriz de Sondas = ',sonda)\n",
    "\n",
    "#OVERHEAD EM \n",
    "overheadDP_mPolka = 0\n",
    "overheadDP_mPINT = 0\n",
    "overheadDP_INTClassico = 0\n",
    "overheadCP_mPolka = 0\n",
    "overheadCP_mPINT = 0\n",
    "overheadCP_INTClassico = 0\n",
    "\n",
    "mPolkaDP_fixoPSonda = 10\n",
    "mPolkaDP_fixoPNo = 20\n",
    "mPolkaCP_fixoPSonda = 3\n",
    "mPolkaCP_fixoPNo = 6\n",
    "\n",
    "mPINTDP_fixoPSonda = 8\n",
    "mPINTDP_fixoPNo = 15\n",
    "mPINTCP_fixoPSonda = 3\n",
    "mPINTCP_fixoPNo = 5\n",
    "\n",
    "INTClassicoDP_fixoPSonda = 20\n",
    "INTClassicoDP_fixoPNo = 40\n",
    "INTClassicoCP_fixoPSonda = 10\n",
    "INTClassicoCP_fixoPNo = 20\n",
    "\n",
    "for i in range(len(sonda)):\n",
    "    overheadDP_mPolka += mPolkaDP_fixoPSonda + mPolkaDP_fixoPNo*len(sonda[i])\n",
    "    overheadDP_mPINT += mPINTDP_fixoPSonda + mPINTDP_fixoPNo*len(sonda[i])\n",
    "    overheadDP_INTClassico += INTClassicoDP_fixoPSonda + INTClassicoDP_fixoPNo*len(sonda[i])\n",
    "\n",
    "    overheadCP_mPolka += mPolkaCP_fixoPSonda + mPolkaCP_fixoPNo*len(sonda[i])\n",
    "    overheadCP_mPINT += mPINTCP_fixoPSonda + mPINTCP_fixoPNo*len(sonda[i])\n",
    "    overheadCP_INTClassico += INTClassicoCP_fixoPSonda + INTClassicoCP_fixoPNo*len(sonda[i])\n",
    "\n",
    "print('Overhead DataPlane MPolka = ',overheadDP_mPolka)\n",
    "print('Overhead DataPlane MPINT = ',overheadDP_mPINT)\n",
    "print('Overhead DataPlane INT Clássico = ',overheadDP_INTClassico)\n",
    "\n",
    "print('Overhead ControlPlane MPolka = ',overheadCP_mPolka)\n",
    "print('Overhead ControlPlane MPINT = ',overheadCP_mPINT)\n",
    "print('Overhead ControlPlane INT Clássico = ',overheadCP_INTClassico)\n",
    "\n",
    "matrixOverhead = {}\n",
    "matrixOverhead['Topology'] = ['Isis','Isis']\n",
    "matrixOverhead['Where'] = ['DataPlane','ControlPlane']\n",
    "matrixOverhead['MPolka'] = [overheadDP_mPolka,overheadCP_mPolka]\n",
    "matrixOverhead['MPINT'] = [overheadDP_mPINT,overheadCP_mPINT]\n",
    "matrixOverhead['INT Clássico'] = [overheadDP_INTClassico,overheadCP_INTClassico]\n",
    "#df = pd.DataFrame(matrixOverhead)\n",
    "d = {'DataPlane MPolka': [overheadDP_mPolka], 'DataPlane MPINT': [overheadDP_mPINT], 'DataPlane INT Clássico': [overheadDP_INTClassico]}\n",
    "df = pd.DataFrame(matrixOverhead)\n",
    "print(df)\n",
    "#sns.displot(df, x=\"MPolka\",hue=\"Where\",element=\"step\");\n",
    "#sns.catplot(x=\"MPolka\", y=\"MPolka\", hue=\"Where\",kind=\"bar\", data=df, errorbar = None);"
   ]
  }
 ],
 "metadata": {
  "kernelspec": {
   "display_name": "Python 3.10.6 64-bit",
   "language": "python",
   "name": "python3"
  },
  "language_info": {
   "codemirror_mode": {
    "name": "ipython",
    "version": 3
   },
   "file_extension": ".py",
   "mimetype": "text/x-python",
   "name": "python",
   "nbconvert_exporter": "python",
   "pygments_lexer": "ipython3",
   "version": "3.10.6"
  },
  "orig_nbformat": 4,
  "vscode": {
   "interpreter": {
    "hash": "916dbcbb3f70747c44a77c7bcd40155683ae19c65e1c03b4aa3499c5328201f1"
   }
  }
 },
 "nbformat": 4,
 "nbformat_minor": 2
}
