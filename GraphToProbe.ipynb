{
 "cells": [
  {
   "cell_type": "code",
   "execution_count": 70,
   "metadata": {},
   "outputs": [
    {
     "name": "stdout",
     "output_type": "stream",
     "text": [
      "Digite o nó que enviará a sonda em G: \n",
      "Matriz de Sondas =  [[1, 5, 3], [2, 6, 4], [7]]\n",
      "  Topology         Where MPolka MPINT INT Clássico\n",
      "0     Isis     DataPlane    170   129          340\n",
      "1     Isis  ControlPlane     51    44          170\n",
      "  Topology         Where MPolka MPINT INT Clássico\n",
      "0     Isis     DataPlane    170   129          340\n",
      "1     Isis  ControlPlane     51    44          170\n",
      "2    Isis2     DataPlane    170   129          340\n",
      "3    Isis2  ControlPlane     51    44          170\n",
      "[['1', '2'], ['1', '4'], ['2', '1'], ['2', '3'], ['2', '4'], ['3', '2'], ['3', '5'], ['4', '1'], ['4', '2'], ['4', '6'], ['5', '3'], ['5', '6'], ['5', '9'], ['6', '4'], ['6', '5'], ['6', '8'], ['7', '8'], ['7', '11'], ['8', '6'], ['8', '7'], ['8', '9'], ['9', '5'], ['9', '8'], ['9', '10'], ['10', '9'], ['10', '11'], ['11', '7'], ['11', '10']]\n"
     ]
    },
    {
     "data": {
      "image/png": "[encoded data removed]",
      "text/plain": [
       "<Figure size 432x288 with 1 Axes>"
      ]
     },
     "metadata": {},
     "output_type": "display_data"
    },
    {
     "data": {
      "image/png": "[encoded data removed]",
      "text/plain": [
       "<Figure size 459.375x360 with 1 Axes>"
      ]
     },
     "metadata": {
      "needs_background": "light"
     },
     "output_type": "display_data"
    }
   ],
   "source": [
    "import networkx as nx\n",
    "import matplotlib.pyplot as plt\n",
    "import pandas as pd\n",
    "import numpy as np\n",
    "import seaborn as sns\n",
    "\n",
    "GIsis = nx.from_edgelist([[1,5],[5,3],[1,2],[2,6],[6,4],[6,7]])\n",
    "sonda = []\n",
    "sondaTemp = []\n",
    "\n",
    "def EdgeListToMST(path):\n",
    "    edgeList = readTopology(path)\n",
    "    print(edgeList)\n",
    "    G = nx.from_edgelist(edgeList)\n",
    "    T = nx.minimum_spanning_tree(G,algorithm='prim')\n",
    "    return T\n",
    "\n",
    "def toDataframe(df,topology,sonda):\n",
    "    #Overhead por abordagem\n",
    "    overheadDP_mPolka = 0\n",
    "    overheadDP_mPINT = 0\n",
    "    overheadDP_INTClassico = 0\n",
    "    overheadCP_mPolka = 0\n",
    "    overheadCP_mPINT = 0\n",
    "    overheadCP_INTClassico = 0\n",
    "\n",
    "    for i in range(len(sonda)):\n",
    "        overheadDP_mPolka += mPolkaDP_fixoPSonda + mPolkaDP_fixoPNo*len(sonda[i])\n",
    "        overheadDP_mPINT += mPINTDP_fixoPSonda + mPINTDP_fixoPNo*len(sonda[i])\n",
    "        overheadDP_INTClassico += INTClassicoDP_fixoPSonda + INTClassicoDP_fixoPNo*len(sonda[i])\n",
    "\n",
    "        overheadCP_mPolka += mPolkaCP_fixoPSonda + mPolkaCP_fixoPNo*len(sonda[i])\n",
    "        overheadCP_mPINT += mPINTCP_fixoPSonda + mPINTCP_fixoPNo*len(sonda[i])\n",
    "        overheadCP_INTClassico += INTClassicoCP_fixoPSonda + INTClassicoCP_fixoPNo*len(sonda[i])\n",
    "\n",
    "    #print('Overhead DataPlane MPolka = ',overheadDP_mPolka)\n",
    "    #print('Overhead DataPlane MPINT = ',overheadDP_mPINT)\n",
    "    #print('Overhead DataPlane INT Clássico = ',overheadDP_INTClassico)\n",
    "    #print('Overhead ControlPlane MPolka = ',overheadCP_mPolka)\n",
    "    #print('Overhead ControlPlane MPINT = ',overheadCP_mPINT)\n",
    "    #print('Overhead ControlPlane INT Clássico = ',overheadCP_INTClassico)\n",
    "\n",
    "    matrixOverhead = {}\n",
    "    matrixOverhead['Topology'] = [topology,topology]\n",
    "    matrixOverhead['Where'] = ['DataPlane','ControlPlane']\n",
    "    matrixOverhead['MPolka'] = [overheadDP_mPolka,overheadCP_mPolka]\n",
    "    matrixOverhead['MPINT'] = [overheadDP_mPINT,overheadCP_mPINT]\n",
    "    matrixOverhead['INT Clássico'] = [overheadDP_INTClassico,overheadCP_INTClassico]\n",
    "    df2 = pd.DataFrame(data=matrixOverhead)\n",
    "    result = pd.concat([df,df2],ignore_index=True)\n",
    "    return result\n",
    "\n",
    "def readTopology(path):\n",
    "    edgeList = []\n",
    "\n",
    "    with open(path,'r') as arq:\n",
    "        lines = arq.readlines()\n",
    "    \n",
    "    for i in range(len(lines)):\n",
    "        line = lines[i].split(' ')\n",
    "        line.pop()\n",
    "        edgeList.append(line)\n",
    "        #print(line)\n",
    "    \n",
    "    return edgeList\n",
    "\n",
    "def dfs(G,v,visited): #Retorna a matriz de sondas do MPolka\n",
    "  sondaTemp.append(v)\n",
    "  visited[v] = True\n",
    "  for w in G.neighbors(v):\n",
    "    if len(list(G.neighbors(v))) == 1: #DEADEND\n",
    "        #print(sondaTemp)\n",
    "        sonda.append(sondaTemp.copy())\n",
    "        sondaTemp.clear()\n",
    "    if not visited[w]:\n",
    "        dfs(G,w,visited)\n",
    "  return sonda\n",
    "\n",
    "print('Digite o nó que enviará a sonda em G: ')\n",
    "node = int(input())\n",
    "\n",
    "print('Matriz de Sondas = ',sondaIsis)\n",
    "\n",
    "mPolkaDP_fixoPSonda = 10\n",
    "mPolkaDP_fixoPNo = 20\n",
    "mPolkaCP_fixoPSonda = 3\n",
    "mPolkaCP_fixoPNo = 6\n",
    "\n",
    "mPINTDP_fixoPSonda = 8\n",
    "mPINTDP_fixoPNo = 15\n",
    "mPINTCP_fixoPSonda = 3\n",
    "mPINTCP_fixoPNo = 5\n",
    "\n",
    "INTClassicoDP_fixoPSonda = 20\n",
    "INTClassicoDP_fixoPNo = 40\n",
    "INTClassicoCP_fixoPSonda = 10\n",
    "INTClassicoCP_fixoPNo = 20\n",
    "\n",
    "df = pd.DataFrame(columns=['Topology','Where','MPolka','MPINT','INT Clássico']) #Empty Row Dataframe\n",
    "\n",
    "sondaIsis = dfs(GIsis,node,[False] * (GIsis.number_of_nodes() + 1))\n",
    "df = toDataframe(df,'Isis',sondaIsis)\n",
    "print(df)\n",
    "\n",
    "df = toDataframe(df,'Isis2',sondaIsis)\n",
    "print(df)\n",
    "\n",
    "GAbilene = EdgeListToMST('topologydata/abilene/TOPOLOGY')\n",
    "nx.draw(GAbilene)\n",
    "#sondaAbilene = dfs(GAbilene,node,[False] * (GAbilene.number_of_nodes() + 1))\n",
    "#print('Matriz de Sondas Abilene = ',sondaAbilene)\n",
    "#df = toDataframe(df,'Abilene',sondaAbilene)\n",
    "#print(df)\n",
    "\n",
    "#sns.displot(df, x=\"MPolka\",hue=\"Where\",element=\"step\");\n",
    "sns.catplot(x=\"Topology\", y=\"MPolka\", hue=\"Where\",kind=\"bar\", data=df, errorbar = None);"
   ]
  }
 ],
 "metadata": {
  "kernelspec": {
   "display_name": "Python 3.10.6 64-bit",
   "language": "python",
   "name": "python3"
  },
  "language_info": {
   "codemirror_mode": {
    "name": "ipython",
    "version": 3
   },
   "file_extension": ".py",
   "mimetype": "text/x-python",
   "name": "python",
   "nbconvert_exporter": "python",
   "pygments_lexer": "ipython3",
   "version": "3.10.6"
  },
  "orig_nbformat": 4,
  "vscode": {
   "interpreter": {
    "hash": "916dbcbb3f70747c44a77c7bcd40155683ae19c65e1c03b4aa3499c5328201f1"
   }
  }
 },
 "nbformat": 4,
 "nbformat_minor": 2
}
